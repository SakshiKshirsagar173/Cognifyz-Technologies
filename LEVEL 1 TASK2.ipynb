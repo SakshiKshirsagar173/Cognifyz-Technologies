{
 "cells": [
  {
   "cell_type": "markdown",
   "id": "f2e4be38-556d-400b-8255-ce1179d14a69",
   "metadata": {},
   "source": [
    "TASK2:DESCRIPTIVE ANALYSIS"
   ]
  },
  {
   "cell_type": "code",
   "execution_count": 1,
   "id": "53af5b28-e8e2-4510-9222-d4ccd3bdbbcf",
   "metadata": {},
   "outputs": [],
   "source": [
    "import pandas as pd"
   ]
  },
  {
   "cell_type": "code",
   "execution_count": 2,
   "id": "d4c3e093-493f-4f25-96ff-880c83361d88",
   "metadata": {},
   "outputs": [],
   "source": [
    "df=pd.read_csv(\"Dataset Internship.csv\")"
   ]
  },
  {
   "cell_type": "code",
   "execution_count": 3,
   "id": "9c4b3ab5-51ec-4caa-be42-cddb287fd685",
   "metadata": {},
   "outputs": [
    {
     "name": "stdout",
     "output_type": "stream",
     "text": [
      "<class 'pandas.core.frame.DataFrame'>\n",
      "RangeIndex: 9551 entries, 0 to 9550\n",
      "Data columns (total 21 columns):\n",
      " #   Column                Non-Null Count  Dtype  \n",
      "---  ------                --------------  -----  \n",
      " 0   Restaurant ID         9551 non-null   int64  \n",
      " 1   Restaurant Name       9551 non-null   object \n",
      " 2   Country Code          9551 non-null   int64  \n",
      " 3   City                  9551 non-null   object \n",
      " 4   Address               9551 non-null   object \n",
      " 5   Locality              9551 non-null   object \n",
      " 6   Locality Verbose      9551 non-null   object \n",
      " 7   Longitude             9551 non-null   float64\n",
      " 8   Latitude              9551 non-null   float64\n",
      " 9   Cuisines              9542 non-null   object \n",
      " 10  Average Cost for two  9551 non-null   int64  \n",
      " 11  Currency              9551 non-null   object \n",
      " 12  Has Table booking     9551 non-null   object \n",
      " 13  Has Online delivery   9551 non-null   object \n",
      " 14  Is delivering now     9551 non-null   object \n",
      " 15  Switch to order menu  9551 non-null   object \n",
      " 16  Price range           9551 non-null   int64  \n",
      " 17  Aggregate rating      9551 non-null   float64\n",
      " 18  Rating color          9551 non-null   object \n",
      " 19  Rating text           9551 non-null   object \n",
      " 20  Votes                 9551 non-null   int64  \n",
      "dtypes: float64(3), int64(5), object(13)\n",
      "memory usage: 1.5+ MB\n"
     ]
    }
   ],
   "source": [
    "df.info() #Basic information about dataset"
   ]
  },
  {
   "cell_type": "code",
   "execution_count": 5,
   "id": "7de4df64-9f20-47ec-9c0d-1339954eb677",
   "metadata": {},
   "outputs": [
    {
     "data": {
      "text/html": [
       "<div>\n",
       "<style scoped>\n",
       "    .dataframe tbody tr th:only-of-type {\n",
       "        vertical-align: middle;\n",
       "    }\n",
       "\n",
       "    .dataframe tbody tr th {\n",
       "        vertical-align: top;\n",
       "    }\n",
       "\n",
       "    .dataframe thead th {\n",
       "        text-align: right;\n",
       "    }\n",
       "</style>\n",
       "<table border=\"1\" class=\"dataframe\">\n",
       "  <thead>\n",
       "    <tr style=\"text-align: right;\">\n",
       "      <th></th>\n",
       "      <th>Restaurant ID</th>\n",
       "      <th>Country Code</th>\n",
       "      <th>Longitude</th>\n",
       "      <th>Latitude</th>\n",
       "      <th>Average Cost for two</th>\n",
       "      <th>Price range</th>\n",
       "      <th>Aggregate rating</th>\n",
       "      <th>Votes</th>\n",
       "    </tr>\n",
       "  </thead>\n",
       "  <tbody>\n",
       "    <tr>\n",
       "      <th>count</th>\n",
       "      <td>9.551000e+03</td>\n",
       "      <td>9551.000000</td>\n",
       "      <td>9551.000000</td>\n",
       "      <td>9551.000000</td>\n",
       "      <td>9551.000000</td>\n",
       "      <td>9551.000000</td>\n",
       "      <td>9551.000000</td>\n",
       "      <td>9551.000000</td>\n",
       "    </tr>\n",
       "    <tr>\n",
       "      <th>mean</th>\n",
       "      <td>9.051128e+06</td>\n",
       "      <td>18.365616</td>\n",
       "      <td>64.126574</td>\n",
       "      <td>25.854381</td>\n",
       "      <td>1199.210763</td>\n",
       "      <td>1.804837</td>\n",
       "      <td>2.666370</td>\n",
       "      <td>156.909748</td>\n",
       "    </tr>\n",
       "    <tr>\n",
       "      <th>std</th>\n",
       "      <td>8.791521e+06</td>\n",
       "      <td>56.750546</td>\n",
       "      <td>41.467058</td>\n",
       "      <td>11.007935</td>\n",
       "      <td>16121.183073</td>\n",
       "      <td>0.905609</td>\n",
       "      <td>1.516378</td>\n",
       "      <td>430.169145</td>\n",
       "    </tr>\n",
       "    <tr>\n",
       "      <th>min</th>\n",
       "      <td>5.300000e+01</td>\n",
       "      <td>1.000000</td>\n",
       "      <td>-157.948486</td>\n",
       "      <td>-41.330428</td>\n",
       "      <td>0.000000</td>\n",
       "      <td>1.000000</td>\n",
       "      <td>0.000000</td>\n",
       "      <td>0.000000</td>\n",
       "    </tr>\n",
       "    <tr>\n",
       "      <th>25%</th>\n",
       "      <td>3.019625e+05</td>\n",
       "      <td>1.000000</td>\n",
       "      <td>77.081343</td>\n",
       "      <td>28.478713</td>\n",
       "      <td>250.000000</td>\n",
       "      <td>1.000000</td>\n",
       "      <td>2.500000</td>\n",
       "      <td>5.000000</td>\n",
       "    </tr>\n",
       "    <tr>\n",
       "      <th>50%</th>\n",
       "      <td>6.004089e+06</td>\n",
       "      <td>1.000000</td>\n",
       "      <td>77.191964</td>\n",
       "      <td>28.570469</td>\n",
       "      <td>400.000000</td>\n",
       "      <td>2.000000</td>\n",
       "      <td>3.200000</td>\n",
       "      <td>31.000000</td>\n",
       "    </tr>\n",
       "    <tr>\n",
       "      <th>75%</th>\n",
       "      <td>1.835229e+07</td>\n",
       "      <td>1.000000</td>\n",
       "      <td>77.282006</td>\n",
       "      <td>28.642758</td>\n",
       "      <td>700.000000</td>\n",
       "      <td>2.000000</td>\n",
       "      <td>3.700000</td>\n",
       "      <td>131.000000</td>\n",
       "    </tr>\n",
       "    <tr>\n",
       "      <th>max</th>\n",
       "      <td>1.850065e+07</td>\n",
       "      <td>216.000000</td>\n",
       "      <td>174.832089</td>\n",
       "      <td>55.976980</td>\n",
       "      <td>800000.000000</td>\n",
       "      <td>4.000000</td>\n",
       "      <td>4.900000</td>\n",
       "      <td>10934.000000</td>\n",
       "    </tr>\n",
       "  </tbody>\n",
       "</table>\n",
       "</div>"
      ],
      "text/plain": [
       "       Restaurant ID  Country Code    Longitude     Latitude  \\\n",
       "count   9.551000e+03   9551.000000  9551.000000  9551.000000   \n",
       "mean    9.051128e+06     18.365616    64.126574    25.854381   \n",
       "std     8.791521e+06     56.750546    41.467058    11.007935   \n",
       "min     5.300000e+01      1.000000  -157.948486   -41.330428   \n",
       "25%     3.019625e+05      1.000000    77.081343    28.478713   \n",
       "50%     6.004089e+06      1.000000    77.191964    28.570469   \n",
       "75%     1.835229e+07      1.000000    77.282006    28.642758   \n",
       "max     1.850065e+07    216.000000   174.832089    55.976980   \n",
       "\n",
       "       Average Cost for two  Price range  Aggregate rating         Votes  \n",
       "count           9551.000000  9551.000000       9551.000000   9551.000000  \n",
       "mean            1199.210763     1.804837          2.666370    156.909748  \n",
       "std            16121.183073     0.905609          1.516378    430.169145  \n",
       "min                0.000000     1.000000          0.000000      0.000000  \n",
       "25%              250.000000     1.000000          2.500000      5.000000  \n",
       "50%              400.000000     2.000000          3.200000     31.000000  \n",
       "75%              700.000000     2.000000          3.700000    131.000000  \n",
       "max           800000.000000     4.000000          4.900000  10934.000000  "
      ]
     },
     "execution_count": 5,
     "metadata": {},
     "output_type": "execute_result"
    }
   ],
   "source": [
    "df.describe() #statistical measures for numerical columns"
   ]
  },
  {
   "cell_type": "code",
   "execution_count": 18,
   "id": "5deedbca-1308-428a-bfd3-4acbfdfa259b",
   "metadata": {},
   "outputs": [
    {
     "name": "stdout",
     "output_type": "stream",
     "text": [
      "\n",
      " Mean:\n",
      " Restaurant ID           9.051128e+06\n",
      "Country Code            1.836562e+01\n",
      "Longitude               6.412657e+01\n",
      "Latitude                2.585438e+01\n",
      "Average Cost for two    1.199211e+03\n",
      "Price range             1.804837e+00\n",
      "Aggregate rating        2.666370e+00\n",
      "Votes                   1.569097e+02\n",
      "dtype: float64\n"
     ]
    }
   ],
   "source": [
    "mean_values = df.select_dtypes(include='number').mean()\n",
    "print(\"\\n Mean:\\n\",mean_values)"
   ]
  },
  {
   "cell_type": "code",
   "execution_count": 19,
   "id": "9ae4d41e-6b6f-45cf-b97c-425976ae6cf1",
   "metadata": {},
   "outputs": [
    {
     "name": "stdout",
     "output_type": "stream",
     "text": [
      "\n",
      " Median:\n",
      " Restaurant ID           6.004089e+06\n",
      "Country Code            1.000000e+00\n",
      "Longitude               7.719196e+01\n",
      "Latitude                2.857047e+01\n",
      "Average Cost for two    4.000000e+02\n",
      "Price range             2.000000e+00\n",
      "Aggregate rating        3.200000e+00\n",
      "Votes                   3.100000e+01\n",
      "dtype: float64\n"
     ]
    }
   ],
   "source": [
    "median_values=df.select_dtypes(include='number').median()\n",
    "print(\"\\n Median:\\n\",median_values)"
   ]
  },
  {
   "cell_type": "code",
   "execution_count": 20,
   "id": "fb7eb247-8525-41e4-aef3-168d60445167",
   "metadata": {},
   "outputs": [
    {
     "name": "stdout",
     "output_type": "stream",
     "text": [
      "\n",
      "Mode:\n",
      "       Restaurant ID  Country Code  Longitude  Latitude  Average Cost for two  \\\n",
      "0                53           1.0        0.0       0.0                 500.0   \n",
      "1                55           NaN        NaN       NaN                   NaN   \n",
      "2                60           NaN        NaN       NaN                   NaN   \n",
      "3                64           NaN        NaN       NaN                   NaN   \n",
      "4                65           NaN        NaN       NaN                   NaN   \n",
      "...             ...           ...        ...       ...                   ...   \n",
      "9546       18499493           NaN        NaN       NaN                   NaN   \n",
      "9547       18500618           NaN        NaN       NaN                   NaN   \n",
      "9548       18500628           NaN        NaN       NaN                   NaN   \n",
      "9549       18500639           NaN        NaN       NaN                   NaN   \n",
      "9550       18500652           NaN        NaN       NaN                   NaN   \n",
      "\n",
      "      Price range  Aggregate rating  Votes  \n",
      "0             1.0               0.0    0.0  \n",
      "1             NaN               NaN    NaN  \n",
      "2             NaN               NaN    NaN  \n",
      "3             NaN               NaN    NaN  \n",
      "4             NaN               NaN    NaN  \n",
      "...           ...               ...    ...  \n",
      "9546          NaN               NaN    NaN  \n",
      "9547          NaN               NaN    NaN  \n",
      "9548          NaN               NaN    NaN  \n",
      "9549          NaN               NaN    NaN  \n",
      "9550          NaN               NaN    NaN  \n",
      "\n",
      "[9551 rows x 8 columns]\n"
     ]
    }
   ],
   "source": [
    "mode_values=df.select_dtypes(include='number').mode()\n",
    "print(\"\\nMode:\\n\",mode_values)"
   ]
  },
  {
   "cell_type": "code",
   "execution_count": 22,
   "id": "57f0a09b-50b3-46e8-b8f8-9963ee3a109b",
   "metadata": {},
   "outputs": [
    {
     "name": "stdout",
     "output_type": "stream",
     "text": [
      "\n",
      "Standard Deviation:\n",
      " Restaurant ID           8.791521e+06\n",
      "Country Code            5.675055e+01\n",
      "Longitude               4.146706e+01\n",
      "Latitude                1.100794e+01\n",
      "Average Cost for two    1.612118e+04\n",
      "Price range             9.056088e-01\n",
      "Aggregate rating        1.516378e+00\n",
      "Votes                   4.301691e+02\n",
      "dtype: float64\n"
     ]
    }
   ],
   "source": [
    "Standard_Deviation=df.select_dtypes(include='number').std()\n",
    "print('\\nStandard Deviation:\\n',Standard_Deviation)"
   ]
  },
  {
   "cell_type": "code",
   "execution_count": 27,
   "id": "3e2938e5-595c-4406-aeb6-0fa82e95da78",
   "metadata": {},
   "outputs": [
    {
     "name": "stdout",
     "output_type": "stream",
     "text": [
      "UNIQUE COUNTRY CODE\n"
     ]
    },
    {
     "data": {
      "text/plain": [
       "Country Code\n",
       "1      8652\n",
       "216     434\n",
       "215      80\n",
       "30       60\n",
       "189      60\n",
       "214      60\n",
       "148      40\n",
       "208      34\n",
       "14       24\n",
       "162      22\n",
       "94       21\n",
       "166      20\n",
       "184      20\n",
       "191      20\n",
       "37        4\n",
       "Name: count, dtype: int64"
      ]
     },
     "execution_count": 27,
     "metadata": {},
     "output_type": "execute_result"
    }
   ],
   "source": [
    "print(\"UNIQUE COUNTRY CODE\")\n",
    "df['Country Code'].value_counts()  #unique values in Country code column"
   ]
  },
  {
   "cell_type": "code",
   "execution_count": 28,
   "id": "f6aa1569-24a4-49ec-8983-c0bca3650753",
   "metadata": {},
   "outputs": [
    {
     "name": "stdout",
     "output_type": "stream",
     "text": [
      "UNIQUE CITIES\n"
     ]
    },
    {
     "data": {
      "text/plain": [
       "City\n",
       "New Delhi         5473\n",
       "Gurgaon           1118\n",
       "Noida             1080\n",
       "Faridabad          251\n",
       "Ghaziabad           25\n",
       "                  ... \n",
       "Lakes Entrance       1\n",
       "Mohali               1\n",
       "Panchkula            1\n",
       "Bandung              1\n",
       "Randburg             1\n",
       "Name: count, Length: 141, dtype: int64"
      ]
     },
     "execution_count": 28,
     "metadata": {},
     "output_type": "execute_result"
    }
   ],
   "source": [
    "print(\"UNIQUE CITIES\")\n",
    "df['City'].value_counts() #unique values in City column"
   ]
  },
  {
   "cell_type": "code",
   "execution_count": 31,
   "id": "bdda1db1-6478-4ce8-b9c0-140051352b52",
   "metadata": {},
   "outputs": [
    {
     "name": "stdout",
     "output_type": "stream",
     "text": [
      "UNIQUE CUISINES\n"
     ]
    },
    {
     "data": {
      "text/plain": [
       "Cuisines\n",
       "North Indian                          936\n",
       "North Indian, Chinese                 511\n",
       "Chinese                               354\n",
       "Fast Food                             354\n",
       "North Indian, Mughlai                 334\n",
       "                                     ... \n",
       "World Cuisine, Patisserie, Cafe         1\n",
       "Burger, Izgara                          1\n",
       "Desserts, B�_rek                        1\n",
       "Restaurant Cafe, Turkish, Desserts      1\n",
       "Restaurant Cafe, Desserts               1\n",
       "Name: count, Length: 1825, dtype: int64"
      ]
     },
     "execution_count": 31,
     "metadata": {},
     "output_type": "execute_result"
    }
   ],
   "source": [
    "print(\"UNIQUE CUISINES\")\n",
    "df['Cuisines'].value_counts()  #unique values in Cuisines column"
   ]
  },
  {
   "cell_type": "code",
   "execution_count": 33,
   "id": "04ec603a-4ea4-4f42-9f9a-cd91875dae28",
   "metadata": {},
   "outputs": [
    {
     "name": "stdout",
     "output_type": "stream",
     "text": [
      "TOP CUISINES\n"
     ]
    },
    {
     "data": {
      "text/plain": [
       "Cuisines\n",
       "North Indian                      936\n",
       "North Indian, Chinese             511\n",
       "Chinese                           354\n",
       "Fast Food                         354\n",
       "North Indian, Mughlai             334\n",
       "Cafe                              299\n",
       "Bakery                            218\n",
       "North Indian, Mughlai, Chinese    197\n",
       "Bakery, Desserts                  170\n",
       "Street Food                       149\n",
       "Name: count, dtype: int64"
      ]
     },
     "execution_count": 33,
     "metadata": {},
     "output_type": "execute_result"
    }
   ],
   "source": [
    "#Top Cuisines\n",
    "print(\"TOP CUISINES\")\n",
    "df['Cuisines'].value_counts().head(10)"
   ]
  },
  {
   "cell_type": "code",
   "execution_count": 34,
   "id": "2e030456-cef3-406c-bddb-8702f038aba8",
   "metadata": {},
   "outputs": [
    {
     "name": "stdout",
     "output_type": "stream",
     "text": [
      "TOP CITIES\n"
     ]
    },
    {
     "data": {
      "text/plain": [
       "City\n",
       "New Delhi       5473\n",
       "Gurgaon         1118\n",
       "Noida           1080\n",
       "Faridabad        251\n",
       "Ghaziabad         25\n",
       "Bhubaneshwar      21\n",
       "Lucknow           21\n",
       "Ahmedabad         21\n",
       "Amritsar          21\n",
       "Guwahati          21\n",
       "Name: count, dtype: int64"
      ]
     },
     "execution_count": 34,
     "metadata": {},
     "output_type": "execute_result"
    }
   ],
   "source": [
    "#Top Cities\n",
    "print(\"TOP CITIES\")\n",
    "df['City'].value_counts().head(10)"
   ]
  },
  {
   "cell_type": "code",
   "execution_count": null,
   "id": "a0cc79b0-06db-4009-a0af-0e898a4337de",
   "metadata": {},
   "outputs": [],
   "source": []
  }
 ],
 "metadata": {
  "kernelspec": {
   "display_name": "Python 3 (ipykernel)",
   "language": "python",
   "name": "python3"
  },
  "language_info": {
   "codemirror_mode": {
    "name": "ipython",
    "version": 3
   },
   "file_extension": ".py",
   "mimetype": "text/x-python",
   "name": "python",
   "nbconvert_exporter": "python",
   "pygments_lexer": "ipython3",
   "version": "3.12.6"
  }
 },
 "nbformat": 4,
 "nbformat_minor": 5
}
